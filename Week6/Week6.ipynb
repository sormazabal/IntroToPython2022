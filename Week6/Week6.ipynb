{
 "cells": [
  {
   "cell_type": "markdown",
   "metadata": {},
   "source": [
    "# WEEK 6\n",
    "\n",
    "## Introduction to Scikit-learn\n"
   ]
  },
  {
   "cell_type": "markdown",
   "metadata": {},
   "source": [
    "training data, features, labels, and models\n",
    "Overview of the scikit-learn API and its main classes, including Estimator, Transformer, and Predictor\n",
    "Examples of how to use scikit-learn to train and evaluate simple machine learning models\n",
    "Tips on how to preprocess and prepare data for use with scikit-learn\n",
    "Techniques for evaluating the performance of machine learning models, such as train/test split and cross-validation\n",
    "Strategies for improving the performance of machine learning models, such as hyperparameter tuning and ensemble methods\n",
    "Resources for learning more about scikit-learn and machine learning in general."
   ]
  },
  {
   "cell_type": "markdown",
   "metadata": {},
   "source": [
    "### Installing Scikit-learn"
   ]
  },
  {
   "cell_type": "code",
   "execution_count": null,
   "metadata": {},
   "outputs": [],
   "source": [
    "#!pip install scikit-learn # If you are using Google Colab\n",
    "#!conda install -c conda-forge scikit-learn --yes # If you are using your own computer"
   ]
  },
  {
   "cell_type": "markdown",
   "metadata": {},
   "source": [
    "### Importing Scikit-learn"
   ]
  },
  {
   "cell_type": "code",
   "execution_count": 1,
   "metadata": {},
   "outputs": [],
   "source": [
    "import sklearn as sk\n",
    "import numpy as np      \n",
    "import pandas as pd\n",
    "import matplotlib.pyplot as plt\n"
   ]
  },
  {
   "cell_type": "markdown",
   "metadata": {},
   "source": [
    "### Important basic concepts"
   ]
  },
  {
   "cell_type": "markdown",
   "metadata": {},
   "source": [
    "**Training data**: In machine learning, we train models using a dataset of examples. This dataset is called the training data. The training data consists of a set of features and labels.\n",
    "\n",
    "**Features**: A feature is an individual measurable property or characteristic of a phenomenon being observed. In the context of machine learning, features are typically numeric values or strings that represent some aspect of the data. For example, in a dataset of customer information, features might include the customer's age, gender, and income level.\n",
    "\n",
    "**Labels**: A label is the correct answer for a given example in the training data. In supervised learning, the goal is to train a model to make predictions for new, unseen examples by learning the relationship between the features and labels in the training data. For example, in a dataset of customer information, the label might be whether or not the customer is likely to purchase a particular product.\n",
    "\n",
    "**Models**: A machine learning model is a mathematical representation of a system or process that is being studied. The model is trained on the training data and is then used to make predictions on new, unseen examples. There are many different types of machine learning models, including linear regression, logistic regression, decision trees, and neural networks. The choice of model depends on the nature of the problem being solved and the type of data being used.\n",
    "\n",
    "**Estimator**: An estimator is any object that learns from data. This includes machine learning models, as well as utilities for fitting and evaluating models. Estimators implement a fit method, which trains the estimator on a dataset, and a predict method, which makes predictions using the trained model.\n",
    "\n",
    "**Transformer**: A transformer is an estimator that can transform data. This is often used as a step in a data processing pipeline. Transformers implement a transform method, which takes in a dataset and returns a transformed version of the data.\n",
    "\n",
    "**Predictor**: A predictor is an estimator that makes predictions based on a trained model. Predictors implement a predict method, which takes in a dataset and returns predictions for each example in the dataset."
   ]
  },
  {
   "cell_type": "markdown",
   "metadata": {},
   "source": [
    "## Splitting data\n",
    "\n",
    "**Splitting data into train and test sets**: To evaluate a machine learning model, it is common to split the data into a training set and a test set. The model is trained on the training set, and then the test set is used to evaluate its performance. scikit-learn provides the train_test_split function for this purpose.\n",
    "\n",
    "Let's start by loading our dataset from sklearn, like in the previous lesson."
   ]
  },
  {
   "cell_type": "code",
   "execution_count": 2,
   "metadata": {},
   "outputs": [],
   "source": [
    "from sklearn.datasets import load_iris\n",
    "from sklearn.model_selection import train_test_split\n",
    "from sklearn.metrics import accuracy_score\n",
    "\n",
    "# Load the Iris dataset\n",
    "X, y = load_iris(return_X_y=True)\n",
    "\n",
    "# Split the data into a training set and a test set\n",
    "X_train, X_test, y_train, y_test = train_test_split(X, y, test_size=0.3, random_state=0)\n",
    "#test_size=0.3 means that 30% of the data is used for testing and 70% for training\n",
    "#random_state=0 means that the data is split in the same way every time\n",
    "#This is useful for debugging, but should be removed when you are done\n",
    "#The data is split randomly, so the results will be different every time\n",
    "#If you want to get the same results as me, use random_state=0\n",
    "#If you want to get different results, use random_state=None\n",
    "#The data is split into 4 variables:\n",
    "#X_train: The features of the training set\n",
    "#X_test: The features of the test set\n",
    "#y_train: The labels of the training set\n",
    "#y_test: The labels of the test set\n"
   ]
  },
  {
   "cell_type": "markdown",
   "metadata": {},
   "source": [
    "Now, let's created a basic predictive model:"
   ]
  },
  {
   "cell_type": "code",
   "execution_count": 8,
   "metadata": {},
   "outputs": [
    {
     "name": "stdout",
     "output_type": "stream",
     "text": [
      "KNeighborsClassifier(n_neighbors=3)\n"
     ]
    }
   ],
   "source": [
    "# Create a model\n",
    "from sklearn import neighbors\n",
    "\n",
    "model = neighbors.KNeighborsClassifier(n_neighbors=3) # You can change this to any model you want\n",
    "\n",
    "\n",
    "# Train a model on the training data\n",
    "model.fit(X_train, y_train)\n",
    "print(model)\n",
    "\n",
    "# Make predictions on the test data\n",
    "y_pred = model.predict(X_test)\n",
    "#y_pred is a list of the predictions for each data point in the test set\n"
   ]
  },
  {
   "cell_type": "markdown",
   "metadata": {},
   "source": [
    "# Now, let's evaluate this model according to its accuracy."
   ]
  },
  {
   "cell_type": "code",
   "execution_count": 9,
   "metadata": {},
   "outputs": [
    {
     "name": "stdout",
     "output_type": "stream",
     "text": [
      "Accuracy:  0.9777777777777777\n"
     ]
    }
   ],
   "source": [
    "\n",
    "# Evaluate the model's performance\n",
    "accuracy = accuracy_score(y_test, y_pred)\n",
    "print('Accuracy: ', accuracy)"
   ]
  },
  {
   "cell_type": "markdown",
   "metadata": {},
   "source": [
    "# Basic Models"
   ]
  },
  {
   "cell_type": "markdown",
   "metadata": {},
   "source": [
    "## Linear Regression\n"
   ]
  },
  {
   "cell_type": "markdown",
   "metadata": {},
   "source": [
    "Linear regression is a simple model that is used to predict a **continuous target** variable based on one or more features. It is a widely used model for **regression tasks** and is implemented in scikit-learn using the LinearRegression class."
   ]
  },
  {
   "cell_type": "markdown",
   "metadata": {},
   "source": [
    "## Logistic Regression"
   ]
  },
  {
   "cell_type": "markdown",
   "metadata": {},
   "source": [
    "Logistic regression is a model that is used to predict a **binary target variable** (i.e., a variable that can take on only two values). It is a widely used model for **classification** tasks and is implemented in scikit-learn using the LogisticRegression class.\n",
    "In the next example, we will predict the type of flower using the Iris dataset.\n"
   ]
  },
  {
   "cell_type": "code",
   "execution_count": 4,
   "metadata": {},
   "outputs": [
    {
     "name": "stdout",
     "output_type": "stream",
     "text": [
      "Accuracy:  0.9333333333333333\n"
     ]
    }
   ],
   "source": [
    "from sklearn.datasets import load_iris\n",
    "from sklearn.linear_model import LogisticRegression\n",
    "from sklearn.model_selection import train_test_split\n",
    "\n",
    "# Load the Iris dataset\n",
    "x, y = load_iris(return_X_y=True)\n",
    "#x is a list of the features\n",
    "#y is a list of the labels (0, 1, or 2), the species of the iris\n",
    "# 0 = setosa, 1 = versicolor, 2 = virginica\n",
    "# The features are:\n",
    "# sepal length in cm\n",
    "# sepal width in cm\n",
    "# petal length in cm\n",
    "# petal width in cm\n",
    "\n",
    "# Split the data into a training set and a test set\n",
    "x_train, x_test, y_train, y_test = train_test_split(x, y, test_size=0.3)\n",
    "\n",
    "# Train a logistic regression model\n",
    "model = LogisticRegression()\n",
    "model.fit(x_train, y_train)\n",
    "\n",
    "# Make predictions on the test data\n",
    "y_pred = model.predict(x_test)\n",
    "\n",
    "# Calculate the model's accuracy\n",
    "accuracy = model.score(x_test, y_test)\n",
    "print('Accuracy: ', accuracy)\n"
   ]
  },
  {
   "cell_type": "markdown",
   "metadata": {},
   "source": [
    "### Plotting our results"
   ]
  },
  {
   "cell_type": "code",
   "execution_count": 20,
   "metadata": {},
   "outputs": [
    {
     "data": {
      "image/png": "[encoded data removed]",
      "text/plain": [
       "<Figure size 640x480 with 2 Axes>"
      ]
     },
     "metadata": {},
     "output_type": "display_data"
    }
   ],
   "source": [
    "import matplotlib.pyplot as plt\n",
    "from sklearn.metrics import confusion_matrix\n",
    "\n",
    "# Calculate the confusion matrix\n",
    "cm = confusion_matrix(y_test, y_pred)\n",
    "\n",
    "# Normalize the confusion matrix\n",
    "cm = cm.astype('float') / cm.sum(axis=1)[:, np.newaxis]\n",
    "\n",
    "# Create a figure and a subplot\n",
    "fig, ax = plt.subplots()\n",
    "\n",
    "# Plot the confusion matrix as a heatmap\n",
    "im = ax.imshow(cm, cmap='Blues')\n",
    "\n",
    "# Add labels and ticks\n",
    "ax.set_xlabel('Predicted Label')\n",
    "ax.set_ylabel('True Label')\n",
    "ax.set_xticks(np.arange(3))\n",
    "ax.set_yticks(np.arange(3))\n",
    "ax.set_xticklabels(['0', '1', '2'])\n",
    "ax.set_yticklabels(['0', '1', '2'])\n",
    "\n",
    "# Add a colorbar\n",
    "cbar = ax.figure.colorbar(im, ax=ax)\n",
    "cbar.ax.set_ylabel('Class Accuracy', rotation=-90, va=\"bottom\")\n",
    "\n",
    "# Loop over data dimensions and create text annotations\n",
    "for i in range(3):\n",
    "    for j in range(3):\n",
    "        text = ax.text(j, i, '{:.3f}'.format(cm[i, j]),\n",
    "                       ha=\"center\", va=\"center\", color=\"black\")\n",
    "\n",
    "# Set the title\n",
    "plt.title('Confusion Matrix')\n",
    "\n",
    "# Show the plot\n",
    "plt.show()\n"
   ]
  },
  {
   "cell_type": "code",
   "execution_count": 13,
   "metadata": {},
   "outputs": [
    {
     "name": "stderr",
     "output_type": "stream",
     "text": [
      "/home/zow/anaconda3/envs/fintech/lib/python3.10/site-packages/sklearn/utils/deprecation.py:87: FutureWarning: Function plot_confusion_matrix is deprecated; Function `plot_confusion_matrix` is deprecated in 1.0 and will be removed in 1.2. Use one of the class methods: ConfusionMatrixDisplay.from_predictions or ConfusionMatrixDisplay.from_estimator.\n",
      "  warnings.warn(msg, category=FutureWarning)\n"
     ]
    },
    {
     "data": {
      "image/png": "[encoded data removed]",
      "text/plain": [
       "<Figure size 640x480 with 2 Axes>"
      ]
     },
     "metadata": {},
     "output_type": "display_data"
    }
   ],
   "source": [
    "# Another way to plot the confusion matrix\n",
    "\n",
    "from sklearn.metrics import plot_confusion_matrix\n",
    "\n",
    "plot_confusion_matrix(model, x_test, y_test, normalize='true', cmap='Blues')\n",
    "plt.show()\n"
   ]
  },
  {
   "cell_type": "markdown",
   "metadata": {},
   "source": [
    "### Plot your results"
   ]
  },
  {
   "cell_type": "markdown",
   "metadata": {},
   "source": [
    "    \n",
    "\n",
    "    \n",
    "    Decision trees: Decision trees are a type of model that is used to make decisions based on a series of binary splits in the data. They are widely used for both regression and classification tasks and are implemented in scikit-learn using the DecisionTreeClassifier and DecisionTreeRegressor classes.\n",
    "\n",
    "    Support vector machines (SVMs): Support vector machines are a type of model that is used for both classification and regression tasks. They are particularly effective for tasks with high-dimensional data, and are implemented in scikit-learn using the SVC and SVR classes.\n",
    "\n",
    "    Random forests: Random forests are an ensemble learning method that is used for both classification and regression tasks. They are composed of many decision trees that are trained on different subsets of the data, and the predictions of the individual trees are averaged to make the final prediction. Random forests are implemented in scikit-learn using the RandomForestClassifier and RandomForestRegressor classes."
   ]
  }
 ],
 "metadata": {
  "kernelspec": {
   "display_name": "Python 3.10.8 ('fintech')",
   "language": "python",
   "name": "python3"
  },
  "language_info": {
   "codemirror_mode": {
    "name": "ipython",
    "version": 3
   },
   "file_extension": ".py",
   "mimetype": "text/x-python",
   "name": "python",
   "nbconvert_exporter": "python",
   "pygments_lexer": "ipython3",
   "version": "3.10.8"
  },
  "orig_nbformat": 4,
  "vscode": {
   "interpreter": {
    "hash": "01d3973737998a47ca5793dcf9763148c6e5be57bec33a1ab7505ae61a66cf50"
   }
  }
 },
 "nbformat": 4,
 "nbformat_minor": 2
}
