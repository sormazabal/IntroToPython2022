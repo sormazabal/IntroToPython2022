{
  "cells": [
    {
      "cell_type": "markdown",
      "metadata": {
        "colab_type": "text",
        "id": "view-in-github"
      },
      "source": [
        "<a href=\"https://colab.research.google.com/github/sormazabal/IntroToPython2022/blob/main/Week4.ipynb\" target=\"_parent\"><img src=\"https://colab.research.google.com/assets/colab-badge.svg\" alt=\"Open In Colab\"/></a>"
      ]
    },
    {
      "cell_type": "markdown",
      "metadata": {
        "id": "fehxgrXnzwIj"
      },
      "source": [
        "# Week 4: Numpy\n",
        "\n",
        "Numpy is a library that allows us to create arrays and perform fast mathematical operations with them.\n",
        "\n",
        "\n",
        "**But, we already have lists in raw Python, why do we need to use Numpy?**\n",
        "\n",
        "Numpy arrays use only one type. Thus, the consume less memory and if are able to do faster calculations using them.\n",
        "\n",
        "**How do numpy arrays work?**\n",
        "\n",
        "Very similar to lists! You can use indexes and slicing with Numpy arrays too. \n",
        "One convenient thing is that you can specify the data type of your array elements from the start. This results in faster operations and helps you avoid common errors that come from mixing data types.\n",
        "\n",
        "\n",
        "\n",
        "\n"
      ]
    },
    {
      "cell_type": "code",
      "execution_count": 1,
      "metadata": {
        "colab": {
          "base_uri": "https://localhost:8080/"
        },
        "id": "yewZN9BLklgb",
        "outputId": "4eeb9e35-b589-49cc-fe67-68ee3df6fefe"
      },
      "outputs": [
        {
          "name": "stdout",
          "output_type": "stream",
          "text": [
            "Looking in indexes: https://pypi.org/simple, https://us-python.pkg.dev/colab-wheels/public/simple/\n",
            "Requirement already satisfied: numpy in /usr/local/lib/python3.8/dist-packages (1.21.6)\n"
          ]
        }
      ],
      "source": [
        "# if you have not installed numpy, you can install it with:\n",
        "\n",
        "!pip install numpy"
      ]
    },
    {
      "cell_type": "code",
      "execution_count": 2,
      "metadata": {
        "id": "ZVmPWw_3FHaO"
      },
      "outputs": [],
      "source": [
        "# Import numpy with the alias \"np\"\n",
        "import numpy as np \n"
      ]
    },
    {
      "cell_type": "markdown",
      "metadata": {
        "id": "8m2PxK3wFXzn"
      },
      "source": [
        "# First steps"
      ]
    },
    {
      "cell_type": "markdown",
      "metadata": {
        "id": "jVsrSdOJFRKB"
      },
      "source": [
        "Create your first Numpy array:"
      ]
    },
    {
      "cell_type": "code",
      "execution_count": 3,
      "metadata": {
        "colab": {
          "base_uri": "https://localhost:8080/"
        },
        "id": "ZF9BCDvWkfKc",
        "outputId": "19e18809-4388-421e-d4f4-f1382222434d"
      },
      "outputs": [
        {
          "name": "stdout",
          "output_type": "stream",
          "text": [
            "[1 2 3]\n"
          ]
        }
      ],
      "source": [
        "a = np.array([1,2,3]) \n",
        "print(a)"
      ]
    },
    {
      "cell_type": "code",
      "execution_count": 6,
      "metadata": {
        "colab": {
          "base_uri": "https://localhost:8080/"
        },
        "id": "0pb2GOQ4KI4p",
        "outputId": "ea1dd618-4143-4896-b9a7-fcd65bbbcd6c"
      },
      "outputs": [
        {
          "name": "stdout",
          "output_type": "stream",
          "text": [
            "[[ 1  2  3  4]\n",
            " [ 5  6  7  8]\n",
            " [ 9 10 11 12]]\n",
            "(3, 4)\n"
          ]
        }
      ],
      "source": [
        "#2D array\n",
        "\n",
        "b = np.array([[1, 2, 3, 4], [5, 6, 7, 8], [9, 10, 11, 12]])\n",
        "bshape = b.shape\n",
        "print(b)\n",
        "print(bshape)"
      ]
    },
    {
      "cell_type": "markdown",
      "metadata": {
        "id": "P2VeK5eFcg6w"
      },
      "source": [
        "Indexing for 2D array elements"
      ]
    },
    {
      "cell_type": "code",
      "execution_count": 11,
      "metadata": {
        "colab": {
          "base_uri": "https://localhost:8080/"
        },
        "id": "gv3bcRWicmHC",
        "outputId": "5161f168-ccc8-4fab-f2ca-4db6df1c9ffa"
      },
      "outputs": [
        {
          "data": {
            "text/plain": [
              "array([[ 1,  2,  3,  4],\n",
              "       [ 5,  6,  7,  8],\n",
              "       [ 9, 10, 11, 12]])"
            ]
          },
          "execution_count": 11,
          "metadata": {},
          "output_type": "execute_result"
        }
      ],
      "source": [
        "b[:,:]\n"
      ]
    },
    {
      "cell_type": "code",
      "execution_count": 12,
      "metadata": {},
      "outputs": [
        {
          "data": {
            "text/plain": [
              "11"
            ]
          },
          "execution_count": 12,
          "metadata": {},
          "output_type": "execute_result"
        }
      ],
      "source": [
        "b[2][2]"
      ]
    },
    {
      "cell_type": "markdown",
      "metadata": {
        "id": "HhUFdJfycqeu"
      },
      "source": [
        "Difference with list indexing:"
      ]
    },
    {
      "cell_type": "code",
      "execution_count": 13,
      "metadata": {
        "colab": {
          "base_uri": "https://localhost:8080/",
          "height": 203
        },
        "id": "JCwp-wB5ctA3",
        "outputId": "f20b770f-ba63-4aeb-99ef-cf47dbff95fb"
      },
      "outputs": [
        {
          "ename": "TypeError",
          "evalue": "list indices must be integers or slices, not tuple",
          "output_type": "error",
          "traceback": [
            "\u001b[1;31m---------------------------------------------------------------------------\u001b[0m",
            "\u001b[1;31mTypeError\u001b[0m                                 Traceback (most recent call last)",
            "\u001b[1;32mc:\\Users\\user\\Documents\\GitHub\\IntroToPython2022\\Week4\\Week4.ipynb Cell 13\u001b[0m in \u001b[0;36m<cell line: 4>\u001b[1;34m()\u001b[0m\n\u001b[0;32m      <a href='vscode-notebook-cell:/c%3A/Users/user/Documents/GitHub/IntroToPython2022/Week4/Week4.ipynb#X14sZmlsZQ%3D%3D?line=0'>1</a>\u001b[0m b_list \u001b[39m=\u001b[39m [[\u001b[39m1\u001b[39m, \u001b[39m2\u001b[39m, \u001b[39m3\u001b[39m, \u001b[39m4\u001b[39m], [\u001b[39m5\u001b[39m, \u001b[39m6\u001b[39m, \u001b[39m7\u001b[39m, \u001b[39m8\u001b[39m], [\u001b[39m9\u001b[39m, \u001b[39m10\u001b[39m, \u001b[39m11\u001b[39m, \u001b[39m12\u001b[39m]]\n\u001b[0;32m      <a href='vscode-notebook-cell:/c%3A/Users/user/Documents/GitHub/IntroToPython2022/Week4/Week4.ipynb#X14sZmlsZQ%3D%3D?line=2'>3</a>\u001b[0m \u001b[39m#Doing this gives me an error:\u001b[39;00m\n\u001b[1;32m----> <a href='vscode-notebook-cell:/c%3A/Users/user/Documents/GitHub/IntroToPython2022/Week4/Week4.ipynb#X14sZmlsZQ%3D%3D?line=3'>4</a>\u001b[0m b_list[\u001b[39m2\u001b[39;49m,\u001b[39m2\u001b[39;49m]\n",
            "\u001b[1;31mTypeError\u001b[0m: list indices must be integers or slices, not tuple"
          ]
        }
      ],
      "source": [
        "b_list = [[1, 2, 3, 4], [5, 6, 7, 8], [9, 10, 11, 12]]\n",
        "\n",
        "#Doing this gives me an error:\n",
        "b_list[2,2]"
      ]
    },
    {
      "cell_type": "code",
      "execution_count": 7,
      "metadata": {
        "colab": {
          "base_uri": "https://localhost:8080/"
        },
        "id": "yYkiIzYyc6z_",
        "outputId": "172234ba-9eec-46c2-ac44-1bbc9d2f89d2"
      },
      "outputs": [
        {
          "data": {
            "text/plain": [
              "11"
            ]
          },
          "execution_count": 7,
          "metadata": {},
          "output_type": "execute_result"
        }
      ],
      "source": [
        "# You must address elements within a 2D list using the following syntax\n",
        "\n",
        "b_list[2][2]"
      ]
    },
    {
      "cell_type": "code",
      "execution_count": 15,
      "metadata": {},
      "outputs": [
        {
          "data": {
            "text/plain": [
              "numpy.ndarray"
            ]
          },
          "execution_count": 15,
          "metadata": {},
          "output_type": "execute_result"
        }
      ],
      "source": [
        "type(np.asarray(b_list))"
      ]
    },
    {
      "cell_type": "code",
      "execution_count": 16,
      "metadata": {},
      "outputs": [
        {
          "data": {
            "text/plain": [
              "list"
            ]
          },
          "execution_count": 16,
          "metadata": {},
          "output_type": "execute_result"
        }
      ],
      "source": [
        "type(b_list)"
      ]
    },
    {
      "cell_type": "markdown",
      "metadata": {
        "id": "kibVptaddIO6"
      },
      "source": [
        "### In summary:\n",
        "\n",
        "a[i][j] --- Gets the element in position i,j for a Python list.\n",
        "\n",
        "a[i,j]  --- Gets the element in position i,j for a Numpy array."
      ]
    },
    {
      "cell_type": "markdown",
      "metadata": {
        "id": "FUeEvH5od4zt"
      },
      "source": [
        "## Array slicing: Continuation\n",
        "\n",
        "The basic syntax for slicing is:\n",
        "\n",
        "array[start:stop:step]\n",
        "\n",
        "where \"start\" is usually 0, \"stop\" the lenght of the array, and \"step\" is 0.  "
      ]
    },
    {
      "cell_type": "markdown",
      "metadata": {
        "id": "jQT-JwxJYlQg"
      },
      "source": [
        "## Creating arrays"
      ]
    },
    {
      "cell_type": "code",
      "execution_count": 17,
      "metadata": {
        "colab": {
          "base_uri": "https://localhost:8080/"
        },
        "id": "oVinRIgsda8X",
        "outputId": "3d4928a6-ca9a-4e93-b638-a0eb15eeb070"
      },
      "outputs": [
        {
          "name": "stdout",
          "output_type": "stream",
          "text": [
            "[ 0  1  2  3  4  5  6  7  8  9 10 11 12 13 14]\n"
          ]
        }
      ],
      "source": [
        "# A convenient way to create Numpy arrays is using np.arrange() which creates an array of the specified length.\n",
        "# For example:\n",
        "x = np.arange(15)\n",
        "print(x)\n"
      ]
    },
    {
      "cell_type": "code",
      "execution_count": 18,
      "metadata": {
        "colab": {
          "base_uri": "https://localhost:8080/"
        },
        "id": "j49j0-CMYofu",
        "outputId": "be3bb485-5de5-4bf4-e0b5-7567d59e77a1"
      },
      "outputs": [
        {
          "name": "stdout",
          "output_type": "stream",
          "text": [
            "[[0. 0. 0. 0. 0. 0.]\n",
            " [0. 0. 0. 0. 0. 0.]]\n",
            "[0.54703903 0.45560776 0.82184817 0.48433089 0.58836219 0.45902893\n",
            " 0.27863719 0.47194039 0.23742112 0.70889737]\n"
          ]
        }
      ],
      "source": [
        "# Create an array with only 0 elements:\n",
        "\n",
        "y = np.zeros((2,6))\n",
        "print(y)\n",
        "\n",
        "z = np.random.random(10) #create an array with 10 elements in the interval [0,1]\n",
        "print(z)"
      ]
    },
    {
      "cell_type": "code",
      "execution_count": 21,
      "metadata": {},
      "outputs": [
        {
          "data": {
            "text/plain": [
              "array([17, 19, 18, 11, 13, 19,  9, 14, 15,  6,  6, 19,  6, 13,  8])"
            ]
          },
          "execution_count": 21,
          "metadata": {},
          "output_type": "execute_result"
        }
      ],
      "source": [
        "np.random.randint(5,20,15) #create an array with 10 elements in the interval [0,10)"
      ]
    },
    {
      "cell_type": "markdown",
      "metadata": {
        "id": "IbJhGBk9e_IL"
      },
      "source": [
        "You already know some slicing techniques, let's refresh our memory with the following examples."
      ]
    },
    {
      "cell_type": "code",
      "execution_count": 22,
      "metadata": {
        "colab": {
          "base_uri": "https://localhost:8080/"
        },
        "id": "1waNE6L1e9Cs",
        "outputId": "f0ac3e4a-fb02-4154-f17e-b6c4f35a4659"
      },
      "outputs": [
        {
          "name": "stdout",
          "output_type": "stream",
          "text": [
            "[0 1 2 3 4 5 6]\n",
            "[ 7  8  9 10 11 12 13 14]\n",
            "[ 0  2  4  6  8 10 12 14]\n",
            "[ 1  3  5  7  9 11 13]\n"
          ]
        }
      ],
      "source": [
        "# Get the first 7 elements\n",
        "\n",
        "print(x[:7])\n",
        "\n",
        "# Get all elements after index = 7\n",
        "\n",
        "print(x[7:])\n",
        "\n",
        "\n",
        "# Get all even elements\n",
        "print(x[::2])\n",
        "\n",
        "# Get all odd elements\n",
        "\n",
        "print(x[1::2])"
      ]
    },
    {
      "cell_type": "code",
      "execution_count": 12,
      "metadata": {
        "id": "HCNWleldfxq7"
      },
      "outputs": [],
      "source": [
        "# Your turn: \n",
        "# get all the elements between indices 5 and 10\n",
        "\n",
        "\n"
      ]
    },
    {
      "cell_type": "markdown",
      "metadata": {
        "id": "MjljxnNfgKOb"
      },
      "source": [
        "### Slicing for 2D arrays\n",
        "\n",
        "You can use the same approach for getting elements from 2D arrays (or even 3D arrays!). Let's cover some examples:"
      ]
    },
    {
      "cell_type": "code",
      "execution_count": 23,
      "metadata": {},
      "outputs": [
        {
          "data": {
            "text/plain": [
              "array([[ 1,  2,  3,  4],\n",
              "       [ 5,  6,  7,  8],\n",
              "       [ 9, 10, 11, 12]])"
            ]
          },
          "execution_count": 23,
          "metadata": {},
          "output_type": "execute_result"
        }
      ],
      "source": [
        "b"
      ]
    },
    {
      "cell_type": "code",
      "execution_count": 13,
      "metadata": {
        "colab": {
          "base_uri": "https://localhost:8080/"
        },
        "id": "Kz3rq3Q2gWtZ",
        "outputId": "bbbe84eb-0c52-4c14-8d36-7906cd9ac097"
      },
      "outputs": [
        {
          "data": {
            "text/plain": [
              "array([[1, 2],\n",
              "       [5, 6]])"
            ]
          },
          "execution_count": 13,
          "metadata": {},
          "output_type": "execute_result"
        }
      ],
      "source": [
        "b[:2,:2] # 2 rows, 2 colums "
      ]
    },
    {
      "cell_type": "code",
      "execution_count": 14,
      "metadata": {
        "colab": {
          "base_uri": "https://localhost:8080/"
        },
        "id": "lCLdNg2fg1m9",
        "outputId": "43ffe33a-8af7-4d51-d49f-967fbe79c5d6"
      },
      "outputs": [
        {
          "data": {
            "text/plain": [
              "array([[1, 2, 3],\n",
              "       [5, 6, 7]])"
            ]
          },
          "execution_count": 14,
          "metadata": {},
          "output_type": "execute_result"
        }
      ],
      "source": [
        "b[:2,:3] # 2 rows, 3 columns"
      ]
    },
    {
      "cell_type": "code",
      "execution_count": 15,
      "metadata": {
        "colab": {
          "base_uri": "https://localhost:8080/"
        },
        "id": "CWmFW_plg9pd",
        "outputId": "e777f011-d8e8-4094-efc0-ac548a681316"
      },
      "outputs": [
        {
          "data": {
            "text/plain": [
              "array([[12, 11, 10,  9],\n",
              "       [ 8,  7,  6,  5],\n",
              "       [ 4,  3,  2,  1]])"
            ]
          },
          "execution_count": 15,
          "metadata": {},
          "output_type": "execute_result"
        }
      ],
      "source": [
        "# Invert the order of all elements\n",
        "\n",
        "b[::-1,::-1]"
      ]
    },
    {
      "cell_type": "code",
      "execution_count": 24,
      "metadata": {},
      "outputs": [
        {
          "data": {
            "text/plain": [
              "array([[ 1,  5,  9],\n",
              "       [ 2,  6, 10],\n",
              "       [ 3,  7, 11],\n",
              "       [ 4,  8, 12]])"
            ]
          },
          "execution_count": 24,
          "metadata": {},
          "output_type": "execute_result"
        }
      ],
      "source": [
        "b.T"
      ]
    },
    {
      "cell_type": "code",
      "execution_count": 16,
      "metadata": {
        "colab": {
          "base_uri": "https://localhost:8080/"
        },
        "id": "mOmGckhxhL-Y",
        "outputId": "4550ee6a-76c2-4c84-aca3-320e1586f53f"
      },
      "outputs": [
        {
          "data": {
            "text/plain": [
              "array([[1, 4],\n",
              "       [5, 8]])"
            ]
          },
          "execution_count": 16,
          "metadata": {},
          "output_type": "execute_result"
        }
      ],
      "source": [
        "b[:2, ::3] # What does this do?"
      ]
    },
    {
      "cell_type": "markdown",
      "metadata": {
        "id": "597jntBnhf5l"
      },
      "source": [
        "Getting only one row or column:"
      ]
    },
    {
      "cell_type": "code",
      "execution_count": 25,
      "metadata": {
        "colab": {
          "base_uri": "https://localhost:8080/"
        },
        "id": "hi5jjapjhYoP",
        "outputId": "fc1cd41f-25d6-41e5-a888-870adc852b44"
      },
      "outputs": [
        {
          "name": "stdout",
          "output_type": "stream",
          "text": [
            "[1 5 9]\n",
            "[1 2 3 4]\n"
          ]
        }
      ],
      "source": [
        "# One column\n",
        "print(b[:,0])\n",
        "\n",
        "# One row\n",
        "print(b[0,:])"
      ]
    },
    {
      "cell_type": "code",
      "execution_count": 26,
      "metadata": {},
      "outputs": [
        {
          "data": {
            "text/plain": [
              "15"
            ]
          },
          "execution_count": 26,
          "metadata": {},
          "output_type": "execute_result"
        }
      ],
      "source": [
        "np.sum(b[:,0])"
      ]
    },
    {
      "cell_type": "code",
      "execution_count": 27,
      "metadata": {},
      "outputs": [
        {
          "data": {
            "text/plain": [
              "5.0"
            ]
          },
          "execution_count": 27,
          "metadata": {},
          "output_type": "execute_result"
        }
      ],
      "source": [
        "np.mean(b[:,0])"
      ]
    },
    {
      "cell_type": "code",
      "execution_count": 28,
      "metadata": {},
      "outputs": [
        {
          "data": {
            "text/plain": [
              "3"
            ]
          },
          "execution_count": 28,
          "metadata": {},
          "output_type": "execute_result"
        }
      ],
      "source": [
        "np.count_nonzero(b[:,0])"
      ]
    },
    {
      "cell_type": "code",
      "execution_count": 29,
      "metadata": {
        "colab": {
          "base_uri": "https://localhost:8080/"
        },
        "id": "TFivkAEOhzNC",
        "outputId": "b2025d27-84f5-48af-bbc0-c92892ef0201"
      },
      "outputs": [
        {
          "data": {
            "text/plain": [
              "array([1, 2, 3, 4])"
            ]
          },
          "execution_count": 29,
          "metadata": {},
          "output_type": "execute_result"
        }
      ],
      "source": [
        "# What happens if I use only one index?\n",
        "\n",
        "b[0]\n",
        "\n",
        "# It is the same as using b[0,:]"
      ]
    },
    {
      "cell_type": "markdown",
      "metadata": {
        "id": "9qWtAnQDiOsZ"
      },
      "source": [
        "## Setting elements"
      ]
    },
    {
      "cell_type": "markdown",
      "metadata": {
        "id": "-I76wFVIiow_"
      },
      "source": [
        "A difference between seting elements in lists versus Numpy arrays is that when you change elements in a subarray, those elements also change in the original array. This is because subarrays are just **views** of subsections of arrays, instead of **copies** of the original array."
      ]
    },
    {
      "cell_type": "markdown",
      "metadata": {
        "id": "4A0q0puqmoHB"
      },
      "source": [
        "View example:"
      ]
    },
    {
      "cell_type": "code",
      "execution_count": 30,
      "metadata": {
        "colab": {
          "base_uri": "https://localhost:8080/"
        },
        "id": "64hk3xh9h_yq",
        "outputId": "3a3ea948-2eb2-43ae-8e37-577dafc9c633"
      },
      "outputs": [
        {
          "data": {
            "text/plain": [
              "array([[1, 2],\n",
              "       [5, 6]])"
            ]
          },
          "execution_count": 30,
          "metadata": {},
          "output_type": "execute_result"
        }
      ],
      "source": [
        "sub_b = b[:2,:2] # this is a view\n",
        "sub_b"
      ]
    },
    {
      "cell_type": "code",
      "execution_count": 31,
      "metadata": {
        "id": "DFdrt41eiaxg"
      },
      "outputs": [],
      "source": [
        "sub_b[0,0] = 10 # since we changed an element in a view,\n",
        "# it will change in the original array too"
      ]
    },
    {
      "cell_type": "code",
      "execution_count": 32,
      "metadata": {
        "id": "9ND-QIQIigE2"
      },
      "outputs": [
        {
          "data": {
            "text/plain": [
              "array([[10,  2,  3,  4],\n",
              "       [ 5,  6,  7,  8],\n",
              "       [ 9, 10, 11, 12]])"
            ]
          },
          "execution_count": 32,
          "metadata": {},
          "output_type": "execute_result"
        }
      ],
      "source": [
        "b"
      ]
    },
    {
      "cell_type": "markdown",
      "metadata": {
        "id": "HVmagywUmp-8"
      },
      "source": [
        "Copy example:"
      ]
    },
    {
      "cell_type": "code",
      "execution_count": 33,
      "metadata": {
        "id": "7K5up-ABmrp9"
      },
      "outputs": [],
      "source": [
        "sub_b_copy = b[:2,:2].copy()"
      ]
    },
    {
      "cell_type": "code",
      "execution_count": 34,
      "metadata": {
        "id": "fPa0SCaGm0vW"
      },
      "outputs": [
        {
          "name": "stdout",
          "output_type": "stream",
          "text": [
            "[[15  2]\n",
            " [ 5  6]]\n"
          ]
        }
      ],
      "source": [
        "sub_b_copy[0,0] = 15\n",
        "print(sub_b_copy)"
      ]
    },
    {
      "cell_type": "code",
      "execution_count": 35,
      "metadata": {
        "colab": {
          "base_uri": "https://localhost:8080/"
        },
        "id": "X0XX4FFQm3ZP",
        "outputId": "cd81d707-5510-49d5-b633-8f7bd644582d"
      },
      "outputs": [
        {
          "data": {
            "text/plain": [
              "array([[10,  2,  3,  4],\n",
              "       [ 5,  6,  7,  8],\n",
              "       [ 9, 10, 11, 12]])"
            ]
          },
          "execution_count": 35,
          "metadata": {},
          "output_type": "execute_result"
        }
      ],
      "source": [
        "b # The first element was not modified"
      ]
    },
    {
      "cell_type": "markdown",
      "metadata": {
        "id": "U06cfBjknCxl"
      },
      "source": [
        "# Reshaping arrays"
      ]
    },
    {
      "cell_type": "code",
      "execution_count": 38,
      "metadata": {
        "id": "Xd-gfdGTnFjR"
      },
      "outputs": [
        {
          "data": {
            "text/plain": [
              "array([ 0,  1,  2,  3,  4,  5,  6,  7,  8,  9, 10, 11, 12, 13, 14])"
            ]
          },
          "execution_count": 38,
          "metadata": {},
          "output_type": "execute_result"
        }
      ],
      "source": [
        "# Let's use our example x again:\n",
        "x = np.arange(15)\n",
        "x\n"
      ]
    },
    {
      "cell_type": "markdown",
      "metadata": {
        "id": "EyQ6i3M7nUUM"
      },
      "source": [
        "However, this time we don't want to use a 1D array, we want a 2D array:"
      ]
    },
    {
      "cell_type": "code",
      "execution_count": 40,
      "metadata": {
        "colab": {
          "base_uri": "https://localhost:8080/"
        },
        "id": "ALLLn_l8nbuX",
        "outputId": "485d144f-32ce-4edb-c5cb-5a92dbadadfc"
      },
      "outputs": [
        {
          "data": {
            "text/plain": [
              "array([[ 0,  1,  2,  3,  4],\n",
              "       [ 5,  6,  7,  8,  9],\n",
              "       [10, 11, 12, 13, 14]])"
            ]
          },
          "execution_count": 40,
          "metadata": {},
          "output_type": "execute_result"
        }
      ],
      "source": [
        "x = x.reshape((3,5)) \n",
        "x"
      ]
    },
    {
      "cell_type": "markdown",
      "metadata": {
        "id": "wmjRs7egn4N0"
      },
      "source": [
        "Reshape follows the syntax:\n",
        "\n",
        "nparray.reshape((a,b))\n",
        "\n",
        "where a*b = length of the original array"
      ]
    },
    {
      "cell_type": "code",
      "execution_count": 41,
      "metadata": {
        "colab": {
          "base_uri": "https://localhost:8080/"
        },
        "id": "TxU0ctX4oPag",
        "outputId": "85862c07-9c7a-4790-ba27-3674dbf42c41"
      },
      "outputs": [
        {
          "name": "stdout",
          "output_type": "stream",
          "text": [
            "[[ 0  1  2  3  4  5  6  7  8  9 10 11 12 13 14]]\n",
            "[[ 0]\n",
            " [ 1]\n",
            " [ 2]\n",
            " [ 3]\n",
            " [ 4]\n",
            " [ 5]\n",
            " [ 6]\n",
            " [ 7]\n",
            " [ 8]\n",
            " [ 9]\n",
            " [10]\n",
            " [11]\n",
            " [12]\n",
            " [13]\n",
            " [14]]\n"
          ]
        }
      ],
      "source": [
        "x = np.arange(15)\n",
        "\n",
        "#You can also transform a 1D array into a 2D array of only one row or column\n",
        "\n",
        "# One row\n",
        "print(x.reshape((1,15)))\n",
        "\n",
        "#One column\n",
        "print(x.reshape((15,1)))"
      ]
    },
    {
      "cell_type": "markdown",
      "metadata": {
        "id": "gVpd9CPHo9tp"
      },
      "source": [
        "Alternative way of getting 1 row or 1 column:"
      ]
    },
    {
      "cell_type": "code",
      "execution_count": 42,
      "metadata": {
        "colab": {
          "base_uri": "https://localhost:8080/"
        },
        "id": "R2jYLmsmpByb",
        "outputId": "0c17774e-b858-4914-a64b-ce192c640869"
      },
      "outputs": [
        {
          "name": "stdout",
          "output_type": "stream",
          "text": [
            "[[ 0  1  2  3  4  5  6  7  8  9 10 11 12 13 14]]\n",
            "[[ 0]\n",
            " [ 1]\n",
            " [ 2]\n",
            " [ 3]\n",
            " [ 4]\n",
            " [ 5]\n",
            " [ 6]\n",
            " [ 7]\n",
            " [ 8]\n",
            " [ 9]\n",
            " [10]\n",
            " [11]\n",
            " [12]\n",
            " [13]\n",
            " [14]]\n"
          ]
        }
      ],
      "source": [
        "# Row\n",
        "print(x[np.newaxis, :])\n",
        "\n",
        "# Column\n",
        "print(x[:,np.newaxis])"
      ]
    },
    {
      "cell_type": "markdown",
      "metadata": {
        "id": "xnMH-nv_pVSE"
      },
      "source": [
        "Now that I know how to reshape my arrays, how do I concatenate two or more of them? And what do I do if I want to split my array in two?"
      ]
    },
    {
      "cell_type": "markdown",
      "metadata": {
        "id": "Y2bG46sBpn59"
      },
      "source": [
        "# Concatenation, Stacking, and Splitting"
      ]
    },
    {
      "cell_type": "code",
      "execution_count": 43,
      "metadata": {
        "id": "_Z8oAqKYpvAT"
      },
      "outputs": [],
      "source": [
        "x = np.arange(5)\n",
        "y = np.arange(5,10)\n",
        "z = np.arange(10, 16)"
      ]
    },
    {
      "cell_type": "code",
      "execution_count": 44,
      "metadata": {},
      "outputs": [
        {
          "name": "stdout",
          "output_type": "stream",
          "text": [
            "[0 1 2 3 4]\n",
            "[5 6 7 8 9]\n",
            "[10 11 12 13 14 15]\n"
          ]
        }
      ],
      "source": [
        "print(x)\n",
        "print(y)\n",
        "print(z)"
      ]
    },
    {
      "cell_type": "code",
      "execution_count": 45,
      "metadata": {
        "colab": {
          "base_uri": "https://localhost:8080/"
        },
        "id": "fs9Un2xUqCuZ",
        "outputId": "aaed6147-16ce-4c87-f226-cdf52ddf24af"
      },
      "outputs": [
        {
          "data": {
            "text/plain": [
              "array([0, 1, 2, 3, 4, 5, 6, 7, 8, 9])"
            ]
          },
          "execution_count": 45,
          "metadata": {},
          "output_type": "execute_result"
        }
      ],
      "source": [
        "# 1D Concatenation\n",
        "np.concatenate([x,y]) # notice that the concatenated arrays go into brackets"
      ]
    },
    {
      "cell_type": "code",
      "execution_count": 30,
      "metadata": {
        "colab": {
          "base_uri": "https://localhost:8080/"
        },
        "id": "4GqX_yjaqW39",
        "outputId": "5f2fb835-1f96-407f-9855-5efa3e110774"
      },
      "outputs": [
        {
          "data": {
            "text/plain": [
              "array([ 0,  1,  2,  3,  4,  5,  6,  7,  8,  9, 10, 11, 12, 13, 14, 15])"
            ]
          },
          "execution_count": 30,
          "metadata": {},
          "output_type": "execute_result"
        }
      ],
      "source": [
        "# 1D Concatenation of more than one array\n",
        "np.concatenate([x,y, z])\n"
      ]
    },
    {
      "cell_type": "markdown",
      "metadata": {
        "id": "ivDd8mlWqoYR"
      },
      "source": [
        "Concatenating 2D arrays"
      ]
    },
    {
      "cell_type": "code",
      "execution_count": 46,
      "metadata": {
        "colab": {
          "base_uri": "https://localhost:8080/"
        },
        "id": "YqTf0ddzqqfc",
        "outputId": "e8ea407a-2b4b-4b15-e5f2-c3d7de762ced"
      },
      "outputs": [
        {
          "data": {
            "text/plain": [
              "array([[0, 1, 2],\n",
              "       [3, 4, 5],\n",
              "       [6, 7, 8]])"
            ]
          },
          "execution_count": 46,
          "metadata": {},
          "output_type": "execute_result"
        }
      ],
      "source": [
        "x = np.arange(9)\n",
        "x = x.reshape((3,3))\n",
        "x"
      ]
    },
    {
      "cell_type": "code",
      "execution_count": 47,
      "metadata": {
        "colab": {
          "base_uri": "https://localhost:8080/"
        },
        "id": "bAZkvQVNrRCV",
        "outputId": "6ea8be5b-4279-4e6e-a831-c5dcdd33140d"
      },
      "outputs": [
        {
          "data": {
            "text/plain": [
              "array([[0, 1, 2, 0, 1, 2],\n",
              "       [3, 4, 5, 3, 4, 5],\n",
              "       [6, 7, 8, 6, 7, 8]])"
            ]
          },
          "execution_count": 47,
          "metadata": {},
          "output_type": "execute_result"
        }
      ],
      "source": [
        "np.concatenate([x,x], axis = 1) # concatenating arrays along axis = 0, the rows"
      ]
    },
    {
      "cell_type": "code",
      "execution_count": 33,
      "metadata": {
        "colab": {
          "base_uri": "https://localhost:8080/"
        },
        "id": "ZDb26XyNrtrs",
        "outputId": "88e4fd8f-33b3-4edd-98ec-18d7f577911a"
      },
      "outputs": [
        {
          "data": {
            "text/plain": [
              "array([[0, 1, 2],\n",
              "       [3, 4, 5],\n",
              "       [6, 7, 8],\n",
              "       [0, 1, 2],\n",
              "       [3, 4, 5],\n",
              "       [6, 7, 8]])"
            ]
          },
          "execution_count": 33,
          "metadata": {},
          "output_type": "execute_result"
        }
      ],
      "source": [
        "# this is equivalent to using np.vstack\n",
        "np.vstack([x,x]) #vertical, axis = 0"
      ]
    },
    {
      "cell_type": "code",
      "execution_count": 48,
      "metadata": {},
      "outputs": [
        {
          "data": {
            "text/plain": [
              "array([[0, 1, 2, 0, 1, 2],\n",
              "       [3, 4, 5, 3, 4, 5],\n",
              "       [6, 7, 8, 6, 7, 8]])"
            ]
          },
          "execution_count": 48,
          "metadata": {},
          "output_type": "execute_result"
        }
      ],
      "source": [
        "np.hstack([x,x]) #horizontal, axis = 1"
      ]
    },
    {
      "cell_type": "code",
      "execution_count": null,
      "metadata": {
        "id": "4NBdxecOrd_U"
      },
      "outputs": [],
      "source": [
        "np.concatenate([x,x], axis = 1) # concatenating arrays along axis = 1, the columns"
      ]
    },
    {
      "cell_type": "code",
      "execution_count": 34,
      "metadata": {
        "colab": {
          "base_uri": "https://localhost:8080/"
        },
        "id": "6SLo6O3lt3td",
        "outputId": "bac6c46b-aee6-4c10-e49e-ad67f8d634c8"
      },
      "outputs": [
        {
          "data": {
            "text/plain": [
              "array([[0, 1, 2, 0, 1, 2],\n",
              "       [3, 4, 5, 3, 4, 5],\n",
              "       [6, 7, 8, 6, 7, 8]])"
            ]
          },
          "execution_count": 34,
          "metadata": {},
          "output_type": "execute_result"
        }
      ],
      "source": [
        "#This is equivalent to using np.hstack\n",
        "np.hstack([x,x]) #horizontal"
      ]
    },
    {
      "cell_type": "markdown",
      "metadata": {
        "id": "fFwqQsmhuL4b"
      },
      "source": [
        "## Splitting"
      ]
    },
    {
      "cell_type": "code",
      "execution_count": 35,
      "metadata": {
        "colab": {
          "base_uri": "https://localhost:8080/"
        },
        "id": "fz2FZM_KuPID",
        "outputId": "55361f90-cfc6-4900-f5cc-c8e962bae4bf"
      },
      "outputs": [
        {
          "data": {
            "text/plain": [
              "[array([0, 1]), array([2, 3]), array([4, 5]), array([6, 7]), array([8, 9])]"
            ]
          },
          "execution_count": 35,
          "metadata": {},
          "output_type": "execute_result"
        }
      ],
      "source": [
        "x = np.arange(10)\n",
        "\n",
        "np.split(x,5) # If I use just a number, this number specifies \n",
        "#the number of subarrays I will create\n"
      ]
    },
    {
      "cell_type": "code",
      "execution_count": 36,
      "metadata": {
        "colab": {
          "base_uri": "https://localhost:8080/"
        },
        "id": "qJe-O6ciuyjN",
        "outputId": "35605092-3ef1-4251-b886-4a4ac2259fd1"
      },
      "outputs": [
        {
          "data": {
            "text/plain": [
              "[array([0, 1, 2]), array([3, 4]), array([5, 6, 7, 8, 9])]"
            ]
          },
          "execution_count": 36,
          "metadata": {},
          "output_type": "execute_result"
        }
      ],
      "source": [
        "np.split(x, [3, 5]) #the list corresponds to the indices at which the array \n",
        "#will be partitioned"
      ]
    },
    {
      "cell_type": "markdown",
      "metadata": {
        "id": "qIoDqTGYwXqX"
      },
      "source": [
        "### Splitting 2D arrays"
      ]
    },
    {
      "cell_type": "code",
      "execution_count": 40,
      "metadata": {
        "id": "SRurolJRvzS3"
      },
      "outputs": [],
      "source": [
        "x = np.arange(9)\n",
        "x = x.reshape((3,3))"
      ]
    },
    {
      "cell_type": "code",
      "execution_count": 41,
      "metadata": {
        "colab": {
          "base_uri": "https://localhost:8080/"
        },
        "id": "oIJQ4vpavJgZ",
        "outputId": "693bcb77-28cc-477d-d594-7a1773ed591b"
      },
      "outputs": [
        {
          "data": {
            "text/plain": [
              "[array([[0, 1, 2],\n",
              "        [3, 4, 5]]), array([[6, 7, 8]])]"
            ]
          },
          "execution_count": 41,
          "metadata": {},
          "output_type": "execute_result"
        }
      ],
      "source": [
        "np.vsplit(x, [2]) #separate in upper and lower parts"
      ]
    },
    {
      "cell_type": "code",
      "execution_count": 42,
      "metadata": {
        "colab": {
          "base_uri": "https://localhost:8080/"
        },
        "id": "BaVCvmWcv352",
        "outputId": "3a4956f2-83c6-45f9-cb6b-6123db54ff51"
      },
      "outputs": [
        {
          "data": {
            "text/plain": [
              "[array([[0, 1],\n",
              "        [3, 4],\n",
              "        [6, 7]]), array([[2],\n",
              "        [5],\n",
              "        [8]])]"
            ]
          },
          "execution_count": 42,
          "metadata": {},
          "output_type": "execute_result"
        }
      ],
      "source": [
        "np.hsplit(x, [2]) # separate in right and left"
      ]
    },
    {
      "cell_type": "markdown",
      "metadata": {
        "id": "Uw1DV-g_wJNM"
      },
      "source": [
        "https://jakevdp.github.io/PythonDataScienceHandbook/02.03-computation-on-arrays-ufuncs.html "
      ]
    },
    {
      "cell_type": "markdown",
      "metadata": {
        "id": "UQy3G0u_wKRm"
      },
      "source": [
        "# Calculating values (FAST!) with Numpy arrays\n",
        "\n",
        "Before, we saw that we can perform a repeated operation over the elements on a list by iterating through it, but there is a faster way: **vectorized operations**. This means that we can use a function over a numpy array and this function will be executed over the whole array in a quicker way."
      ]
    },
    {
      "cell_type": "code",
      "execution_count": null,
      "metadata": {
        "id": "gnqd38kAa47K"
      },
      "outputs": [],
      "source": [
        "x = np.arange(5)\n",
        "\n",
        "3 ** x"
      ]
    },
    {
      "cell_type": "code",
      "execution_count": 44,
      "metadata": {
        "colab": {
          "base_uri": "https://localhost:8080/"
        },
        "id": "X5ZFFenmbzyT",
        "outputId": "26c78aed-d41e-42ac-88c1-0081b0dbce6e"
      },
      "outputs": [
        {
          "name": "stdout",
          "output_type": "stream",
          "text": [
            "[0 1 2 3 4]\n",
            "[10 11 12 13 14]\n",
            "[0.         0.09090909 0.16666667 0.23076923 0.28571429]\n",
            "[ 0 11 24 39 56]\n"
          ]
        }
      ],
      "source": [
        "a = np.arange(5)\n",
        "b =np.arange(10, 15)\n",
        "\n",
        "#Multiply two vectors\n",
        "\n",
        "print(a)\n",
        "print(b)\n",
        "print(a/b)\n",
        "print(a*b)"
      ]
    },
    {
      "cell_type": "markdown",
      "metadata": {
        "id": "BImvoI2fcPB3"
      },
      "source": [
        "# Basic math using Numpy arrays\n",
        "\n",
        "With Numpy, we can add/substract/multiply/divide by one number, all at the same time."
      ]
    },
    {
      "cell_type": "code",
      "execution_count": 45,
      "metadata": {
        "colab": {
          "base_uri": "https://localhost:8080/"
        },
        "id": "YKI_c_rYdB5q",
        "outputId": "9321fd44-f94d-4029-b95a-9d3783e3c6ca"
      },
      "outputs": [
        {
          "name": "stdout",
          "output_type": "stream",
          "text": [
            "x     = [0 1 2 3 4]\n",
            "x + 5 = [10 11 12 13 14]\n",
            "[10 11 12 13 14]\n",
            "x - 5 = [-3 -2 -1  0  1]\n",
            "[-3 -2 -1  0  1]\n",
            "x * 2 = [ 0  3  6  9 12]\n",
            "[ 0  3  6  9 12]\n",
            "x / 2 = [0.  0.1 0.2 0.3 0.4]\n",
            "[0.  0.5 1.  1.5 2. ]\n",
            "x // 2 = [0 0 1 1 2]\n",
            "[0 0 1 1 2]\n",
            "-x     =  [ 0 -1 -2 -3 -4]\n",
            "[ 0 -1 -2 -3 -4]\n",
            "x ** 2 =  [ 0  1  4  9 16]\n",
            "[ 0  1  4  9 16]\n",
            "x % 2  =  [0 1 0 1 0]\n",
            "[0 1 0 1 0]\n"
          ]
        }
      ],
      "source": [
        "import numpy as np\n",
        "\n",
        "x = np.arange(5)\n",
        "\n",
        "print(\"x     =\", x)\n",
        "\n",
        "print(\"x + 5 =\", x + 10)\n",
        "print(np.add(x,10))\n",
        "\n",
        "\n",
        "print(\"x - 5 =\", x - 3)\n",
        "print(np.subtract(x,3))\n",
        "\n",
        "print(\"x * 2 =\", x * 3)\n",
        "print(np.multiply(x,3))\n",
        "\n",
        "\n",
        "\n",
        "print(\"x / 2 =\", x / 10)\n",
        "print(np.divide(x,2))\n",
        "\n",
        "\n",
        "print(\"x // 2 =\", x // 2) #takes the \"floor\"\n",
        "print(np.floor_divide(x,2))\n",
        "\n",
        "\n",
        "print(\"-x     = \", -x) #changing sign\n",
        "print(np.negative(x))\n",
        "\n",
        "\n",
        "\n",
        "print(\"x ** 2 = \", x ** 2) #exponentiation\n",
        "print(np.power(x,2))\n",
        "\n",
        "print(\"x % 2  = \", x % 2) #modulo\n",
        "print(np.mod(x,2))\n",
        "\n"
      ]
    },
    {
      "cell_type": "markdown",
      "metadata": {
        "id": "8KYdmlyjpv5f"
      },
      "source": [
        "For the next excercise, try using several functions at the same time. For example:\n",
        "(x+1)/2"
      ]
    },
    {
      "cell_type": "code",
      "execution_count": null,
      "metadata": {
        "id": "zYpCOv2gpZMe"
      },
      "outputs": [],
      "source": [
        "# Enter your code here\n",
        "\n"
      ]
    },
    {
      "cell_type": "markdown",
      "metadata": {
        "id": "ZWGpQkVkV5_y"
      },
      "source": [
        "Exponential"
      ]
    },
    {
      "cell_type": "code",
      "execution_count": null,
      "metadata": {
        "id": "cUMTnQASsFD5"
      },
      "outputs": [],
      "source": [
        "x = np.arange(4)\n",
        "print(\"x     =\", x)\n",
        "print(\"e^x   =\", np.exp(x))\n",
        "print(\"2^x   =\", np.exp2(x))\n",
        "print(\"3^x   =\", np.power(3, x))"
      ]
    },
    {
      "cell_type": "markdown",
      "metadata": {
        "id": "_xZBuva9ivJb"
      },
      "source": [
        "Logarithms"
      ]
    },
    {
      "cell_type": "code",
      "execution_count": null,
      "metadata": {
        "id": "vnezNIStsKnT"
      },
      "outputs": [],
      "source": [
        "x = np.array([1, 2, 4, 10])\n",
        "print(\"x        =\", x)\n",
        "print(\"ln(x)    =\", np.log(x))\n",
        "print(\"log2(x)  =\", np.log2(x))\n",
        "print(\"log10(x) =\", np.log10(x))"
      ]
    },
    {
      "cell_type": "markdown",
      "metadata": {
        "id": "wQlHNm_RWe24"
      },
      "source": [
        "## Reduce\n",
        "\n",
        "Reduce takes elements of an array, one or two at a time and applies one function to them. The output is only one value.\n",
        "![image.png](data:image/png;base64,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)"
      ]
    },
    {
      "cell_type": "code",
      "execution_count": 46,
      "metadata": {
        "colab": {
          "base_uri": "https://localhost:8080/"
        },
        "id": "YoPfzWgUWgZY",
        "outputId": "506dab7a-b1a0-4bc1-dd16-29c74c139c9f"
      },
      "outputs": [
        {
          "data": {
            "text/plain": [
              "15"
            ]
          },
          "execution_count": 46,
          "metadata": {},
          "output_type": "execute_result"
        }
      ],
      "source": [
        "# An example of \"reduce\" using the \"add\" function.\n",
        "import numpy as np\n",
        "\n",
        "x = np.arange(1, 6)\n",
        "np.add.reduce(x)"
      ]
    },
    {
      "cell_type": "code",
      "execution_count": 47,
      "metadata": {
        "colab": {
          "base_uri": "https://localhost:8080/"
        },
        "id": "c0an2K2WXeTZ",
        "outputId": "dd6cffe6-dbf7-414a-f78d-66ebc1bf9dc2"
      },
      "outputs": [
        {
          "data": {
            "text/plain": [
              "120"
            ]
          },
          "execution_count": 47,
          "metadata": {},
          "output_type": "execute_result"
        }
      ],
      "source": [
        "np.multiply.reduce(x)"
      ]
    },
    {
      "cell_type": "markdown",
      "metadata": {
        "id": "atIRPdUeX0q1"
      },
      "source": [
        "If you want to retrieve all the previous results, you can use the acumulate() function instead:"
      ]
    },
    {
      "cell_type": "code",
      "execution_count": 48,
      "metadata": {
        "colab": {
          "base_uri": "https://localhost:8080/"
        },
        "id": "KDXp9O_MX8kk",
        "outputId": "0c020764-805a-4014-81a3-43b6774e6df2"
      },
      "outputs": [
        {
          "data": {
            "text/plain": [
              "array([ 1,  3,  6, 10, 15])"
            ]
          },
          "execution_count": 48,
          "metadata": {},
          "output_type": "execute_result"
        }
      ],
      "source": [
        "np.add.accumulate(x)"
      ]
    },
    {
      "cell_type": "markdown",
      "metadata": {
        "id": "OWQvChGrp-e4"
      },
      "source": [
        "Trigonometric functions"
      ]
    },
    {
      "cell_type": "code",
      "execution_count": 49,
      "metadata": {
        "colab": {
          "base_uri": "https://localhost:8080/"
        },
        "id": "tuteytDjVuQv",
        "outputId": "92c74d3b-a22e-4661-9f0a-dc87857d50ad"
      },
      "outputs": [
        {
          "name": "stdout",
          "output_type": "stream",
          "text": [
            "theta      =  [0.         1.57079633 3.14159265]\n",
            "sin(theta) =  [0.0000000e+00 1.0000000e+00 1.2246468e-16]\n",
            "cos(theta) =  [ 1.000000e+00  6.123234e-17 -1.000000e+00]\n",
            "tan(theta) =  [ 0.00000000e+00  1.63312394e+16 -1.22464680e-16]\n"
          ]
        }
      ],
      "source": [
        "theta = np.linspace(0, np.pi, 3)\n",
        "print(\"theta      = \", theta)\n",
        "print(\"sin(theta) = \", np.sin(theta))\n",
        "print(\"cos(theta) = \", np.cos(theta))\n",
        "print(\"tan(theta) = \", np.tan(theta))"
      ]
    }
  ],
  "metadata": {
    "colab": {
      "authorship_tag": "ABX9TyOc2eNe5bS2aoErTQy17QDZ",
      "include_colab_link": true,
      "provenance": []
    },
    "kernelspec": {
      "display_name": "Python 3.9.12 ('base')",
      "language": "python",
      "name": "python3"
    },
    "language_info": {
      "codemirror_mode": {
        "name": "ipython",
        "version": 3
      },
      "file_extension": ".py",
      "mimetype": "text/x-python",
      "name": "python",
      "nbconvert_exporter": "python",
      "pygments_lexer": "ipython3",
      "version": "3.9.12"
    },
    "vscode": {
      "interpreter": {
        "hash": "a077222d77dfe082b8f1dd562ad70e458ac2ab76993a0b248ab0476e32e9e8dd"
      }
    }
  },
  "nbformat": 4,
  "nbformat_minor": 0
}
