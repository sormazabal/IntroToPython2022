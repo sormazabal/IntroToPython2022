{
  "cells": [
    {
      "cell_type": "markdown",
      "metadata": {
        "colab_type": "text",
        "id": "view-in-github"
      },
      "source": [
        "<a href=\"https://colab.research.google.com/github/sormazabal/IntroToPython2022/blob/main/Week1.ipynb\" target=\"_parent\"><img src=\"https://colab.research.google.com/assets/colab-badge.svg\" alt=\"Open In Colab\"/></a>"
      ]
    },
    {
      "cell_type": "markdown",
      "metadata": {
        "id": "AT5xncUE2vQ_"
      },
      "source": [
        "# Introduction to Python!\n",
        "## Week 1\n",
        "TA: Sofia Ormazabal, you can call me \"Zow\".\n",
        "\n",
        "Email: d11949003@ntu.edu.tw\n",
        "\n",
        "Office hours: by appointment\n",
        "\n",
        "* The materials in this lesson are based on Professor Che Lin's \"Introduction to Biomedical Informatics\"\n"
      ]
    },
    {
      "cell_type": "markdown",
      "metadata": {
        "id": "7IIRKuyKfyUP"
      },
      "source": [
        "## First: Anaconda and Python setup\n",
        "Download Anaconda from: https://www.anaconda.com/products/distribution\n",
        "\n",
        "**What is Anaconda?**\n",
        "\n",
        "Anaconda is an environment management system that eases the process of creating environments for Python development. Think of an environment as an insulated capsule in which you can install a different Python version and libraries that what you have installed in your computer.\n",
        "\n",
        "**Why do we need to use Anaconda?**\n",
        "\n",
        "Because different libraries require different Python or library versions as their dependencies. In addition, if you want to replicate the results in a paper, you will need to use an environment to use their same evaluation settings.\n",
        "\n",
        "\n",
        "\n"
      ]
    },
    {
      "cell_type": "markdown",
      "metadata": {
        "id": "RGMCA0dNhDTY"
      },
      "source": [
        "## Basic Anaconda commands\n",
        "\n",
        "*   Create an environment:    conda create --name **my_env** python\n",
        "\n",
        "\n",
        "\n",
        "\n",
        "\n",
        "*   Activate the environment you want to use: conda activate **my_env**\n",
        "\n",
        "*   Deactivate an environment: conda deactivate\n",
        "\n",
        "*   Install a particular Python version: conda install python=x.x\n",
        "\n",
        "*   Install a package: conda install **package_name**\n",
        "\n"
      ]
    },
    {
      "cell_type": "markdown",
      "metadata": {
        "id": "rbduVfIQjCKr"
      },
      "source": [
        "## Create your first environment:\n",
        "\n",
        "\n",
        " \n",
        "1.   After Anaconda is installed, run the Anaconda terminal.\n",
        "\n",
        "2.   Create an environment with:  conda create --name intro python\n",
        "\n",
        "3.   Activate your new environment: conda activate intro\n",
        "\n",
        "4.   Install the 'Numpy' library inside the environment: conda install numpy\n"
      ]
    },
    {
      "cell_type": "code",
      "execution_count": null,
      "metadata": {
        "colab": {
          "base_uri": "https://localhost:8080/"
        },
        "id": "hiI32_x2L7ff",
        "outputId": "ceb6de3d-9142-418b-8a5a-f1e5500fc35f"
      },
      "outputs": [
        {
          "name": "stdout",
          "output_type": "stream",
          "text": [
            "Welcome to intro to Python!\n"
          ]
        }
      ],
      "source": [
        "print(\"Welcome to intro to Python!\") #this is a comment, it doesn't excecute what is written in it\n",
        "#this is a 'print' statement, an output operation"
      ]
    },
    {
      "cell_type": "code",
      "execution_count": null,
      "metadata": {
        "colab": {
          "base_uri": "https://localhost:8080/"
        },
        "id": "WSNBf3VTMtZu",
        "outputId": "0403eb3a-2b5d-4b9f-98e7-f04e19d7d3fe"
      },
      "outputs": [
        {
          "name": "stdout",
          "output_type": "stream",
          "text": [
            "Enter your name: Em\n",
            "Hi Em\n"
          ]
        }
      ],
      "source": [
        "#Input operation\n",
        "#Using user inputs\n",
        "#\"name\" is a variable that stores a value, in this case, a string\n",
        "name = input(\"Enter your name: \") \n",
        "  \n",
        "\n",
        "print(\"Hi\", name) #you can print more than one thing at the same time"
      ]
    },
    {
      "cell_type": "markdown",
      "metadata": {
        "id": "4iB63naK0M0I"
      },
      "source": [
        "This is Jupyter notebook. It is a useful tool for running your code one block at a time. Each block of code is called a cell."
      ]
    },
    {
      "cell_type": "code",
      "execution_count": null,
      "metadata": {
        "colab": {
          "base_uri": "https://localhost:8080/"
        },
        "id": "NWJfKcnz0a12",
        "outputId": "74e8bde0-2fd6-417f-897a-6011383c6ccc"
      },
      "outputs": [
        {
          "name": "stdout",
          "output_type": "stream",
          "text": [
            "Hi, I am a cell.\n"
          ]
        }
      ],
      "source": [
        "\n",
        "print(\"Hi, I am a cell.\")"
      ]
    },
    {
      "cell_type": "markdown",
      "metadata": {
        "id": "2JHz7i3U0gye"
      },
      "source": [
        "This is a text block, it uses Markdown syntax to format your text. You can use it to create sections (Using titles) and make your code easier to follow. Also, when you copy this document, you can use text cells to take notes!"
      ]
    },
    {
      "cell_type": "markdown",
      "metadata": {
        "id": "jcPXWSBW54K8"
      },
      "source": [
        "Another important element is the **kernel**. The kernel is the \"engine\" that runs the code in each document (Lin, Che. 2020). It is specific to Python in the case of the IPython kernel."
      ]
    },
    {
      "cell_type": "markdown",
      "metadata": {
        "id": "gRLYhtXK2i9X"
      },
      "source": [
        "# Importing modules"
      ]
    },
    {
      "cell_type": "markdown",
      "metadata": {
        "id": "T74Az3EQ24nC"
      },
      "source": [
        "You will often need to load external libraries to use auxiliary functions. In the following example, we load the \"Numpy\" library to use its square root function. Numpy is a large library that has many useful mathematical and matrix-related functions."
      ]
    },
    {
      "cell_type": "code",
      "execution_count": null,
      "metadata": {
        "colab": {
          "base_uri": "https://localhost:8080/"
        },
        "id": "_akQybrT2rgc",
        "outputId": "b00f9b19-6323-47ed-94a2-aa0be3ff0e19"
      },
      "outputs": [
        {
          "data": {
            "text/plain": [
              "8.0"
            ]
          },
          "execution_count": 4,
          "metadata": {},
          "output_type": "execute_result"
        }
      ],
      "source": [
        "import numpy as np\n",
        "\n",
        "sqr = np.sqrt(64)\n",
        "sqr"
      ]
    },
    {
      "cell_type": "markdown",
      "metadata": {
        "id": "djiV8JCf373Z"
      },
      "source": [
        "# Dealing with errors"
      ]
    },
    {
      "cell_type": "code",
      "execution_count": null,
      "metadata": {
        "colab": {
          "base_uri": "https://localhost:8080/",
          "height": 185
        },
        "id": "XHv02Hrq3_pu",
        "outputId": "bda98d4b-c594-44a5-df67-03194fd9d069"
      },
      "outputs": [
        {
          "ename": "NameError",
          "evalue": "ignored",
          "output_type": "error",
          "traceback": [
            "\u001b[0;31m---------------------------------------------------------------------------\u001b[0m",
            "\u001b[0;31mNameError\u001b[0m                                 Traceback (most recent call last)",
            "\u001b[0;32m<ipython-input-5-719e0761b54d>\u001b[0m in \u001b[0;36m<module>\u001b[0;34m\u001b[0m\n\u001b[1;32m      1\u001b[0m \u001b[0;31m#This is a runtime error\u001b[0m\u001b[0;34m\u001b[0m\u001b[0;34m\u001b[0m\u001b[0;34m\u001b[0m\u001b[0m\n\u001b[0;32m----> 2\u001b[0;31m \u001b[0ma\u001b[0m \u001b[0;34m=\u001b[0m \u001b[0mb\u001b[0m\u001b[0;34m/\u001b[0m\u001b[0;36m2\u001b[0m\u001b[0;34m\u001b[0m\u001b[0;34m\u001b[0m\u001b[0m\n\u001b[0m",
            "\u001b[0;31mNameError\u001b[0m: name 'b' is not defined"
          ]
        }
      ],
      "source": [
        "#This is a runtime error\n",
        "a = b/2"
      ]
    },
    {
      "cell_type": "code",
      "execution_count": null,
      "metadata": {
        "id": "IBaPYDtj4TrA"
      },
      "outputs": [],
      "source": [
        "b = 3"
      ]
    },
    {
      "cell_type": "markdown",
      "metadata": {
        "id": "r8PmPyBz4VYz"
      },
      "source": [
        "The variable 'b' is declared after the variable 'a', so it fails, because we don't have any value assigned to 'b' yet.\n",
        "You can run, the above cell first and fix this problem. We will encounter different types of common errors through the course, so I will point out how to address them as the time comes."
      ]
    },
    {
      "cell_type": "code",
      "execution_count": null,
      "metadata": {
        "id": "mDXHWHO8srQ8"
      },
      "outputs": [],
      "source": [
        "#This is a syntax error\n",
        "print('Hi'\n",
        "#I'm missing a parenthesis\n"
      ]
    },
    {
      "cell_type": "markdown",
      "metadata": {
        "id": "vhhqLKFnv8Ka"
      },
      "source": [
        "We also have \"Semantic errors\" that happen when we get a result different to what we expected."
      ]
    },
    {
      "cell_type": "markdown",
      "metadata": {
        "id": "pndE_z_7tT3S"
      },
      "source": [
        "Useful terms (from the book Think Python * ):\n",
        "https://greenteapress.com/thinkpython2/html/thinkpython2002.html#sec10\n",
        "\n",
        "\n",
        "\n",
        "1.   **bug**:\n",
        "    An error in a program. \n",
        "\n",
        "2.   **debugging**:\n",
        "    The process of finding and correcting bugs. \n",
        "\n",
        "3.   **operator**:\n",
        "    A special symbol that represents a simple computation like addition, multiplication, or string concatenation. \n",
        "\n",
        "4. **prompt**:\n",
        "    Characters displayed by the interpreter to indicate that it is ready to take input from the user.     \n",
        "\n",
        "4. **expression**:\n",
        "    a combination of values, variables, and operators.\n",
        "    \n",
        "\n",
        "5. **statement**:      a unit of code that has an effect, like creating a variable or displaying a value. \n",
        "\n",
        "\n",
        "\n",
        "\n",
        "\n",
        "\n",
        "* Downey, A. B. (2012). Think Python: How to think like a compter scientist."
      ]
    },
    {
      "cell_type": "code",
      "execution_count": null,
      "metadata": {
        "colab": {
          "base_uri": "https://localhost:8080/"
        },
        "id": "WVMY_MvuvSzK",
        "outputId": "c75ccb84-e54a-41db-d9b6-778386d97976"
      },
      "outputs": [
        {
          "data": {
            "text/plain": [
              "10"
            ]
          },
          "execution_count": 6,
          "metadata": {},
          "output_type": "execute_result"
        }
      ],
      "source": [
        "10 # This is an expression, it has no effect"
      ]
    },
    {
      "cell_type": "code",
      "execution_count": null,
      "metadata": {
        "id": "_xsamPe3vYil"
      },
      "outputs": [],
      "source": [
        "n = 10 # This is a statement, a value is assigned to a variable"
      ]
    },
    {
      "cell_type": "markdown",
      "metadata": {
        "id": "yPSuY2gG2oCS"
      },
      "source": [
        "# Variables and Python data types\n",
        "\n"
      ]
    },
    {
      "cell_type": "code",
      "execution_count": null,
      "metadata": {
        "id": "zejq-iDe2rw3"
      },
      "outputs": [],
      "source": [
        "one = 1\n",
        "one2 = '1'\n",
        "one3 = bool(1)\n"
      ]
    },
    {
      "cell_type": "code",
      "execution_count": null,
      "metadata": {
        "colab": {
          "base_uri": "https://localhost:8080/"
        },
        "id": "N0X0wsxA4YYC",
        "outputId": "ae92e8c4-97f2-429e-95b8-feb13cfade50"
      },
      "outputs": [
        {
          "name": "stdout",
          "output_type": "stream",
          "text": [
            "False\n",
            "True\n",
            "False\n"
          ]
        }
      ],
      "source": [
        "print(one == one2)\n",
        "print(one == one3)\n",
        "print(one2 == one3)"
      ]
    },
    {
      "cell_type": "markdown",
      "metadata": {
        "id": "Kra_cxqQuqzp"
      },
      "source": [
        "## Using Python as a calculator"
      ]
    },
    {
      "cell_type": "code",
      "execution_count": null,
      "metadata": {
        "colab": {
          "base_uri": "https://localhost:8080/"
        },
        "id": "aRyfrwKk5QCk",
        "outputId": "edcf07f0-12b2-4dac-ea3f-5b39705d7b7b"
      },
      "outputs": [
        {
          "name": "stdout",
          "output_type": "stream",
          "text": [
            "6\n",
            "0.6666666666666666\n",
            "12\n",
            "262144\n"
          ]
        }
      ],
      "source": [
        "print(2* 3) #this operation between ints gives us another int\n",
        "print(2 / 3) #this operations gives us a float\n",
        "print(10+8%3) #math operations in Python follow the same order than you would use for a math problem (PEMDAS)\n",
        "print(4**3**2) #exponentiation works asociating from right to left: 3**2 becomes 9, and then we calculate 4**9\n"
      ]
    },
    {
      "cell_type": "code",
      "execution_count": null,
      "metadata": {
        "colab": {
          "base_uri": "https://localhost:8080/"
        },
        "id": "FkdEsdmNZuHw",
        "outputId": "a7d60f65-2dc2-4ed2-af78-a6e4b4cd39ea"
      },
      "outputs": [
        {
          "name": "stdout",
          "output_type": "stream",
          "text": [
            "<class 'int'>\n",
            "<class 'str'>\n",
            "<class 'bool'>\n",
            "0.6666666666666666\n",
            "<class 'NoneType'>\n",
            "<class 'list'>\n",
            "<class 'tuple'>\n"
          ]
        }
      ],
      "source": [
        "print(type(one))\n",
        "print(type(one2))\n",
        "print(type(one3))\n",
        "print(type(print(2 / 3)))\n",
        "print(type([1,2,3]))\n",
        "print(type((1,2,3)))"
      ]
    },
    {
      "cell_type": "markdown",
      "metadata": {
        "id": "C3ipKiZBYEwT"
      },
      "source": [
        "### A few rules in regard to variable names:\n",
        "\n",
        "\n",
        "*   Can't start with a number\n",
        "*   Case matters\n",
        "*   According to the PEP8 convention: you should use lower case  words and underscores. For example: my_variable_1.\n",
        "*   You might encounter code that uses camelCase from previous conventions\n",
        "*   If you see a variable with an ALL_CAPS name, it will correspond to a constant.\n",
        "*   Your variable name cannot be a special keyword:\n",
        "\n",
        "\n",
        "| <!-- --> | <!-- --> | <!-- --> | <!-- --> | <!-- --> | <!-- --> | \n",
        "| --- | --- | --- | --- | --- | --- |\n",
        "| False | class | finally | is | return |\n",
        "| None | continue | for | lambda | try |\n",
        "| True       |def        |from       |nonlocal   |while|\n",
        "| and        |del        |global     |not        |with|\n",
        "| as         |elif       |if         |or         |yield|\n",
        "| assert     |else       |import     |pass\n",
        "| break      |except     |in         |raise\n",
        "(Table from Professor Che Lin's 2020 lecture)\n",
        "\n",
        "\n"
      ]
    },
    {
      "cell_type": "markdown",
      "metadata": {
        "id": "1Tp3rPbp4vig"
      },
      "source": [
        "### Lists\n",
        "Lists are a basic data structure for storing values. Every item stored in an list has an index. The first element of the list has index 0. (Yes! In Python, unlike R, arrays start from zero.)\n",
        "\n",
        "\n",
        "![image.png](data:image/png;base64,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)\n",
        "\n",
        "(c) Programmiz"
      ]
    },
    {
      "cell_type": "markdown",
      "metadata": {
        "id": "Q8kSZgxAcLOp"
      },
      "source": [
        "# Lists"
      ]
    },
    {
      "cell_type": "markdown",
      "metadata": {
        "id": "I9w0ikk3cPnR"
      },
      "source": [
        "Other programming languages have a data structure called \"arrays\", which requires to be declared with a specific length and datatype. Yet, in Python, we have a much simpler, but similar structure, the list. Lists do not need to be declared and we can change their size."
      ]
    },
    {
      "cell_type": "code",
      "execution_count": null,
      "metadata": {
        "id": "tv0-_U7l5Qrj"
      },
      "outputs": [],
      "source": [
        "#Basic list\n",
        "\n",
        "array1 = [] #empty list\n",
        "array2 = [0,1,2]"
      ]
    },
    {
      "cell_type": "code",
      "execution_count": null,
      "metadata": {
        "colab": {
          "base_uri": "https://localhost:8080/"
        },
        "id": "PLikVPD85atn",
        "outputId": "3b581f0b-1124-4d75-a80d-8bfcaed341ee"
      },
      "outputs": [
        {
          "data": {
            "text/plain": [
              "[0, 1, 2]"
            ]
          },
          "execution_count": 13,
          "metadata": {},
          "output_type": "execute_result"
        }
      ],
      "source": [
        "array3 = array1 + array2 #concatenating lists\n",
        "array3"
      ]
    },
    {
      "cell_type": "code",
      "execution_count": null,
      "metadata": {
        "colab": {
          "base_uri": "https://localhost:8080/"
        },
        "id": "-pijF-wQbFlL",
        "outputId": "fc585c7c-8e88-4d43-e8cf-aee2035d9de3"
      },
      "outputs": [
        {
          "name": "stdout",
          "output_type": "stream",
          "text": [
            "Sunny day\n",
            "S\n",
            "SunnySunnySunnySunny\n",
            "ynnuS\n"
          ]
        }
      ],
      "source": [
        "#Strings also share some funtionality with arrays!\n",
        "\n",
        "str1 = 'Sunny'\n",
        "str2= ' day'\n",
        "print(str1 + str2)\n",
        "print(str1[0])\n",
        "print(str1*4)\n",
        "print(str1[::-1]) #this is called slicing, we will see more of it in the upcoming lessons\n"
      ]
    },
    {
      "cell_type": "markdown",
      "metadata": {
        "id": "3TapihiBc8ip"
      },
      "source": [
        "### Accesing elements in your lists\n",
        "For setting and getting back the elements in your lists, you need to use the index of the element you want to retrieve or set."
      ]
    },
    {
      "cell_type": "code",
      "execution_count": null,
      "metadata": {
        "colab": {
          "base_uri": "https://localhost:8080/"
        },
        "id": "NR0SwE9-c7yX",
        "outputId": "752ce8b3-caf5-4503-da86-806e4b19d9c8"
      },
      "outputs": [
        {
          "data": {
            "text/plain": [
              "1"
            ]
          },
          "execution_count": 15,
          "metadata": {},
          "output_type": "execute_result"
        }
      ],
      "source": [
        "array3[1]"
      ]
    },
    {
      "cell_type": "code",
      "execution_count": null,
      "metadata": {
        "colab": {
          "base_uri": "https://localhost:8080/"
        },
        "id": "D2JxrK6YeaqP",
        "outputId": "52ee08dc-9562-4b9f-ae13-bb20a73c96ee"
      },
      "outputs": [
        {
          "name": "stdout",
          "output_type": "stream",
          "text": [
            "[[0, 1], [3, 3]]\n",
            "1\n"
          ]
        }
      ],
      "source": [
        "#If you have a 2D array, you need to use 2 indexes\n",
        "array2d = [[0,1],[3,3]]\n",
        "print(array2d)\n",
        "print(array2d[0][1])\n",
        "\n"
      ]
    },
    {
      "cell_type": "code",
      "execution_count": null,
      "metadata": {
        "colab": {
          "base_uri": "https://localhost:8080/",
          "height": 202
        },
        "id": "kJZJWbw-ex-A",
        "outputId": "c84093c9-4eb0-41a7-e0da-02ead2c75899"
      },
      "outputs": [
        {
          "ename": "IndexError",
          "evalue": "ignored",
          "output_type": "error",
          "traceback": [
            "\u001b[0;31m---------------------------------------------------------------------------\u001b[0m",
            "\u001b[0;31mIndexError\u001b[0m                                Traceback (most recent call last)",
            "\u001b[0;32m<ipython-input-17-a73b64bb61b1>\u001b[0m in \u001b[0;36m<module>\u001b[0;34m\u001b[0m\n\u001b[1;32m      1\u001b[0m \u001b[0;31m#Be careful when picking an index, it has to be within the limits of the array\u001b[0m\u001b[0;34m\u001b[0m\u001b[0;34m\u001b[0m\u001b[0;34m\u001b[0m\u001b[0m\n\u001b[1;32m      2\u001b[0m \u001b[0;31m#The indices of the array go from zero to L - 1, where L is the lenght of the array\u001b[0m\u001b[0;34m\u001b[0m\u001b[0;34m\u001b[0m\u001b[0;34m\u001b[0m\u001b[0m\n\u001b[0;32m----> 3\u001b[0;31m \u001b[0marray3\u001b[0m\u001b[0;34m[\u001b[0m\u001b[0mlen\u001b[0m\u001b[0;34m(\u001b[0m\u001b[0marray3\u001b[0m\u001b[0;34m)\u001b[0m\u001b[0;34m]\u001b[0m\u001b[0;34m\u001b[0m\u001b[0;34m\u001b[0m\u001b[0m\n\u001b[0m",
            "\u001b[0;31mIndexError\u001b[0m: list index out of range"
          ]
        }
      ],
      "source": [
        "#Be careful when picking an index, it has to be within the limits of the array\n",
        "#The indices of the array go from zero to L - 1, where L is the lenght of the array\n",
        "array3[len(array3)]  "
      ]
    },
    {
      "cell_type": "code",
      "execution_count": null,
      "metadata": {
        "colab": {
          "base_uri": "https://localhost:8080/"
        },
        "id": "v2QvfOH2fLGz",
        "outputId": "054410f3-f7df-404d-ad38-f5dae44796c6"
      },
      "outputs": [
        {
          "data": {
            "text/plain": [
              "2"
            ]
          },
          "execution_count": 18,
          "metadata": {},
          "output_type": "execute_result"
        }
      ],
      "source": [
        "#You can also get the last element of the array using an index of -1\n",
        "array3[-1]"
      ]
    },
    {
      "cell_type": "markdown",
      "metadata": {
        "id": "rTmTi9ddlXSP"
      },
      "source": [
        "# List operations"
      ]
    },
    {
      "cell_type": "code",
      "execution_count": null,
      "metadata": {
        "colab": {
          "base_uri": "https://localhost:8080/"
        },
        "id": "XtIk6LFskQas",
        "outputId": "b5895ba2-1157-48eb-bf0d-b7c8a0d25422"
      },
      "outputs": [
        {
          "name": "stdout",
          "output_type": "stream",
          "text": [
            "[0, 1, 2, 3]\n",
            "[0, 1, 2, 3, 4, 5, 6]\n",
            "[0, 15, 1, 2, 3, 4, 5, 6]\n"
          ]
        }
      ],
      "source": [
        "#Adding elements to your list\n",
        "array3.append(3) \n",
        "#The 'append' method is used to the elements in parenthesis to the list\n",
        "print(array3)\n",
        "\n",
        "array3.extend([4,5,6])\n",
        " #for adding several elements at the end of the list, you should use the 'extend' method\n",
        "print(array3)\n",
        "\n",
        "\n",
        "#You can also insert an element in a particular position\n",
        "array3.insert(1,15)\n",
        "#The new element '15' is inserted in the position 1 in the list.\n",
        "print(array3)"
      ]
    },
    {
      "cell_type": "code",
      "execution_count": null,
      "metadata": {
        "colab": {
          "base_uri": "https://localhost:8080/"
        },
        "id": "b6DcQ4POlTOQ",
        "outputId": "0654f60e-2de6-47eb-81ce-86d8e4020117"
      },
      "outputs": [
        {
          "name": "stdout",
          "output_type": "stream",
          "text": [
            "[0, 1, 2, 3, 4, 5, 6]\n"
          ]
        }
      ],
      "source": [
        "#Deleting elements\n",
        "del array3[1] #Deletes the element at index 1\n",
        "print(array3)"
      ]
    },
    {
      "cell_type": "code",
      "execution_count": null,
      "metadata": {
        "colab": {
          "base_uri": "https://localhost:8080/",
          "height": 185
        },
        "id": "6bu9aXB2lvL_",
        "outputId": "fbb135a2-e055-4323-95cf-bdb33dae70cd"
      },
      "outputs": [
        {
          "ename": "NameError",
          "evalue": "ignored",
          "output_type": "error",
          "traceback": [
            "\u001b[0;31m---------------------------------------------------------------------------\u001b[0m",
            "\u001b[0;31mNameError\u001b[0m                                 Traceback (most recent call last)",
            "\u001b[0;32m<ipython-input-21-ca8d2a81b3e7>\u001b[0m in \u001b[0;36m<module>\u001b[0;34m\u001b[0m\n\u001b[1;32m      1\u001b[0m \u001b[0;32mdel\u001b[0m \u001b[0marray3\u001b[0m \u001b[0;31m#deletes the whole list\u001b[0m\u001b[0;34m\u001b[0m\u001b[0;34m\u001b[0m\u001b[0m\n\u001b[0;32m----> 2\u001b[0;31m \u001b[0mprint\u001b[0m\u001b[0;34m(\u001b[0m\u001b[0marray3\u001b[0m\u001b[0;34m)\u001b[0m\u001b[0;34m\u001b[0m\u001b[0;34m\u001b[0m\u001b[0m\n\u001b[0m",
            "\u001b[0;31mNameError\u001b[0m: name 'array3' is not defined"
          ]
        }
      ],
      "source": [
        "del array3 #deletes the whole list\n",
        "print(array3) #we received an error because  the array no longer exists"
      ]
    },
    {
      "cell_type": "code",
      "execution_count": null,
      "metadata": {
        "colab": {
          "base_uri": "https://localhost:8080/"
        },
        "id": "f0pnZoxXmCyy",
        "outputId": "4b7ea3b0-d25c-4591-f88a-7201c8588c2a"
      },
      "outputs": [
        {
          "name": "stdout",
          "output_type": "stream",
          "text": [
            "['o', 'r', 'd']\n",
            "d\n",
            "None\n"
          ]
        }
      ],
      "source": [
        "#Other methods for deleting\n",
        "word_list = ['w', 'o', 'r', 'd']\n",
        "word_list.remove('w') #remove by addressing the element we want to take out\n",
        "print(word_list)\n",
        "\n",
        "print(word_list.pop()) # removes and returns the last item, it is very useful \n",
        "                        #to implement structures like stacks and queues.\n",
        "                        \n",
        "\n",
        "print(word_list.clear()) #returns an empty list"
      ]
    },
    {
      "cell_type": "code",
      "execution_count": null,
      "metadata": {
        "colab": {
          "base_uri": "https://localhost:8080/"
        },
        "id": "sZs6OTr9nc-M",
        "outputId": "fae833ec-ca65-44cc-b906-5b0e4130637d"
      },
      "outputs": [
        {
          "name": "stdout",
          "output_type": "stream",
          "text": [
            "['w', 'o', 'r', 'k']\n"
          ]
        }
      ],
      "source": [
        "# We can also assign elements directly to a particular index:\n",
        "word_list = ['w', 'o', 'r', 'd']\n",
        "word_list[-1] = 'k'\n",
        "\n",
        "print(word_list)\n"
      ]
    },
    {
      "cell_type": "markdown",
      "metadata": {
        "id": "xJr1tk2_n0Cm"
      },
      "source": [
        "### Other useful list methods:\n",
        "\n"
      ]
    },
    {
      "cell_type": "code",
      "execution_count": null,
      "metadata": {
        "colab": {
          "base_uri": "https://localhost:8080/"
        },
        "id": "AaQn06nkn75D",
        "outputId": "936868f4-c265-42bc-a7cc-b94f795ae85b"
      },
      "outputs": [
        {
          "name": "stdout",
          "output_type": "stream",
          "text": [
            "2\n",
            "1\n",
            "['k', 'o', 'r', 'w']\n",
            "['w', 'r', 'o', 'k']\n",
            "['w', 'r', 'o', 'k']\n",
            "True\n",
            "False\n"
          ]
        }
      ],
      "source": [
        "#Return the index of an element:\n",
        "print(word_list.index('r'))\n",
        "\n",
        "\n",
        "#Count how many time an item appears on the list:\n",
        "print(word_list.count('r'))\n",
        "\n",
        "\n",
        "# #Sort the list alphabetically:\n",
        "word_list.sort()\n",
        "print(word_list)\n",
        "\n",
        "# #Reverse the order of the list:\n",
        "word_list.reverse()\n",
        "print(word_list)\n",
        "\n",
        "#This operation does the same as sorting and then reversing\n",
        "word_list.sort(reverse=True)\n",
        "print(word_list)\n",
        "\n",
        "\n",
        "#Checking if an element belongs to a list:\n",
        "print('r' in word_list)\n",
        "print('z' in word_list)\n",
        "\n",
        "\n",
        "\n",
        "\n"
      ]
    },
    {
      "cell_type": "markdown",
      "metadata": {
        "id": "OM2lQJE_1Bka"
      },
      "source": [
        "# Basic Conditional Statements\n",
        "\n",
        "\n",
        "\n",
        "    Equals: a == b\n",
        "    Not Equals: a != b\n",
        "    Less than: a < b\n",
        "    Less than or equal to: a <= b\n",
        "    Greater than: a > b\n",
        "    Greater than or equal to: a >= b\n"
      ]
    },
    {
      "cell_type": "code",
      "execution_count": null,
      "metadata": {
        "colab": {
          "base_uri": "https://localhost:8080/"
        },
        "id": "HMScViEq1IV-",
        "outputId": "73815239-017c-4909-fa20-8653a39c5e61"
      },
      "outputs": [
        {
          "name": "stdout",
          "output_type": "stream",
          "text": [
            "Sucess!\n"
          ]
        }
      ],
      "source": [
        "if 10 > 4:\n",
        "  print(\"Sucess!\")"
      ]
    },
    {
      "cell_type": "code",
      "execution_count": null,
      "metadata": {
        "colab": {
          "base_uri": "https://localhost:8080/"
        },
        "id": "aTjyO1Pi1P55",
        "outputId": "42b64a72-2685-4538-818a-00a7bcecdd1a"
      },
      "outputs": [
        {
          "name": "stdout",
          "output_type": "stream",
          "text": [
            "not equal\n"
          ]
        }
      ],
      "source": [
        "if 1 == '1':\n",
        "  print('equal')\n",
        "else:\n",
        "  print('not equal')"
      ]
    },
    {
      "cell_type": "code",
      "execution_count": null,
      "metadata": {
        "colab": {
          "base_uri": "https://localhost:8080/"
        },
        "id": "GNlMQz-O1jt9",
        "outputId": "65b6684b-5736-42d3-82c6-2b283358929a"
      },
      "outputs": [
        {
          "name": "stdout",
          "output_type": "stream",
          "text": [
            "not equal\n"
          ]
        }
      ],
      "source": [
        "if 1 != '1':\n",
        "  print('not equal')"
      ]
    },
    {
      "cell_type": "markdown",
      "metadata": {
        "id": "10dzbygbQNmM"
      },
      "source": [
        "# Practice exercises\n"
      ]
    },
    {
      "cell_type": "markdown",
      "metadata": {
        "id": "1Z9qRTrkzUMk"
      },
      "source": [
        "1. What is the time 15 hours before 11 p.m.?"
      ]
    },
    {
      "cell_type": "code",
      "execution_count": 1,
      "metadata": {
        "colab": {
          "base_uri": "https://localhost:8080/"
        },
        "id": "R5QMctVpv7z9",
        "outputId": "9f4cd332-85e1-4426-d236-28cf5e2ba628"
      },
      "outputs": [
        {
          "data": {
            "text/plain": [
              "2"
            ]
          },
          "execution_count": 1,
          "metadata": {},
          "output_type": "execute_result"
        }
      ],
      "source": [
        "# Hint: Modular arithmetic\n",
        "#5 % 3\n",
        "(15 + 11)%12"
      ]
    },
    {
      "cell_type": "markdown",
      "metadata": {
        "id": "WLXXJ4iswpH9"
      },
      "source": [
        "2. Write a program that gets the radius of a circle from the user and prints the area of the circle."
      ]
    },
    {
      "cell_type": "code",
      "execution_count": 3,
      "metadata": {
        "id": "HMQ9NTZBwGn3"
      },
      "outputs": [],
      "source": [
        "from math import pi # useful library for math functions\n"
      ]
    },
    {
      "cell_type": "code",
      "execution_count": 10,
      "metadata": {
        "id": "60tJVzArxAfE"
      },
      "outputs": [
        {
          "data": {
            "text/plain": [
              "28.274333882308138"
            ]
          },
          "execution_count": 10,
          "metadata": {},
          "output_type": "execute_result"
        }
      ],
      "source": [
        "r = 3\n",
        "area = pi * (r**2)\n",
        "area"
      ]
    },
    {
      "cell_type": "code",
      "execution_count": 9,
      "metadata": {
        "id": "WMa5XoNSxCUy"
      },
      "outputs": [
        {
          "name": "stdout",
          "output_type": "stream",
          "text": [
            "The area of the circle with radius 3 is: 28.274333882308138\n"
          ]
        }
      ],
      "source": [
        "print (\"The area of the circle with radius \" + str(r) + \" is: \" + str(pi * r**2))"
      ]
    },
    {
      "cell_type": "markdown",
      "metadata": {
        "id": "_ise3g1eycCB"
      },
      "source": [
        "3. Write a program that accepts an int \"n\" and computes the value of n+nn+nnn.\n",
        "(Hint: remember what + means for different data types. )"
      ]
    },
    {
      "cell_type": "code",
      "execution_count": 11,
      "metadata": {
        "id": "Zyv2eh4m0o-M"
      },
      "outputs": [
        {
          "data": {
            "text/plain": [
              "369"
            ]
          },
          "execution_count": 11,
          "metadata": {},
          "output_type": "execute_result"
        }
      ],
      "source": [
        "#your code goes here\n",
        "n = str(3)\n",
        "nn = n+n\n",
        "nnn = nn+n\n",
        "result = int(n) + int(nn) + int(nnn)\n",
        "result"
      ]
    },
    {
      "cell_type": "markdown",
      "metadata": {
        "id": "XCnxguyr0q5F"
      },
      "source": [
        "4. Remove first 4 characters from the string \" I love Python\" "
      ]
    },
    {
      "cell_type": "code",
      "execution_count": 17,
      "metadata": {
        "id": "-qsxu8Fj3gcD"
      },
      "outputs": [
        {
          "name": "stdout",
          "output_type": "stream",
          "text": [
            "IlovePython\n"
          ]
        },
        {
          "data": {
            "text/plain": [
              "'ePython'"
            ]
          },
          "execution_count": 17,
          "metadata": {},
          "output_type": "execute_result"
        }
      ],
      "source": [
        "#your code goes here\n",
        "string1 = \" I love Python\"\n",
        "string1 = string1.replace(\" \", \"\")\n",
        "print(string1)\n",
        "string1[4:] "
      ]
    },
    {
      "cell_type": "markdown",
      "metadata": {
        "id": "I7oV_HfC3g-G"
      },
      "source": [
        "5. How many times does the letter \"i\" appear in \"Supercalifragilisticexpialidocious\" "
      ]
    },
    {
      "cell_type": "code",
      "execution_count": 18,
      "metadata": {
        "colab": {
          "base_uri": "https://localhost:8080/"
        },
        "id": "J76MQ7-43u7c",
        "outputId": "90785a4d-088c-4065-b74f-efe26a856f2e"
      },
      "outputs": [
        {
          "data": {
            "text/plain": [
              "7"
            ]
          },
          "execution_count": 18,
          "metadata": {},
          "output_type": "execute_result"
        }
      ],
      "source": [
        "a = \"Supercalifragilisticexpialidocious\" \n",
        "a.count('i')"
      ]
    },
    {
      "cell_type": "markdown",
      "metadata": {
        "id": "pPOvRRYd3-Xv"
      },
      "source": [
        "6. Check if a word is a palindrome"
      ]
    },
    {
      "cell_type": "code",
      "execution_count": 33,
      "metadata": {
        "id": "UwYR4o0L4DN9"
      },
      "outputs": [],
      "source": [
        "example_word = \"racecar\""
      ]
    },
    {
      "cell_type": "code",
      "execution_count": 37,
      "metadata": {
        "id": "5Dtb41EC4NYO"
      },
      "outputs": [
        {
          "name": "stdout",
          "output_type": "stream",
          "text": [
            "['r', 'a', 'c', 'e', 'c', 'a', 'r']\n",
            "['r', 'a', 'c', 'e', 'c', 'a', 'r']\n",
            "True\n"
          ]
        }
      ],
      "source": [
        "exr = list(example_word)\n",
        "exr2 = exr[::-1]\n",
        "print(exr)\n",
        "print(exr2)\n",
        "if exr == exr2:\n",
        "    print(True)"
      ]
    }
  ],
  "metadata": {
    "colab": {
      "collapsed_sections": [],
      "include_colab_link": true,
      "provenance": []
    },
    "kernelspec": {
      "display_name": "Python 3.8.13 ('base')",
      "language": "python",
      "name": "python3"
    },
    "language_info": {
      "codemirror_mode": {
        "name": "ipython",
        "version": 3
      },
      "file_extension": ".py",
      "mimetype": "text/x-python",
      "name": "python",
      "nbconvert_exporter": "python",
      "pygments_lexer": "ipython3",
      "version": "3.8.13"
    },
    "vscode": {
      "interpreter": {
        "hash": "bdad27cf36a35d56703f35669057975826f5f67897a37725018d9f240de2f421"
      }
    }
  },
  "nbformat": 4,
  "nbformat_minor": 0
}
